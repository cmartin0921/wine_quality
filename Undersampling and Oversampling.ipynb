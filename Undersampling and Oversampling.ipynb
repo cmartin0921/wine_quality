{
 "cells": [
  {
   "cell_type": "code",
   "execution_count": 1,
   "metadata": {},
   "outputs": [],
   "source": [
    "import numpy as np\n",
    "import pandas as pd\n",
    "import tensorflow as tf\n",
    "import matplotlib.pyplot as plt\n",
    "\n",
    "from time import time\n",
    "\n",
    "from sklearn.preprocessing import LabelEncoder, StandardScaler, label_binarize\n",
    "from sklearn.model_selection import train_test_split, StratifiedKFold\n",
    "from sklearn.metrics import roc_curve, auc, accuracy_score, f1_score, precision_score, recall_score, confusion_matrix\n",
    "\n",
    "from imblearn.over_sampling import SMOTE, ADASYN\n",
    "\n",
    "import seaborn as sns\n",
    "\n",
    "import warnings\n",
    "warnings.filterwarnings(\"ignore\", category=DeprecationWarning) \n",
    "\n",
    "seed = None"
   ]
  },
  {
   "cell_type": "code",
   "execution_count": 2,
   "metadata": {},
   "outputs": [],
   "source": [
    "df = pd.read_csv('dataset/winequality-red.csv')\n",
    "# df['CITRIC_ACID'] = df['CITRIC_ACID'] * 2"
   ]
  },
  {
   "cell_type": "code",
   "execution_count": 3,
   "metadata": {},
   "outputs": [],
   "source": [
    "# Parameters\n",
    "value_to_predict = [7, 8]\n",
    "cross_validation_size = 0.2\n",
    "test_size = 0.3\n",
    "target = 'QUALITY'\n",
    "columns_to_choose = [\n",
    "    'FIXED_ACIDITY',\n",
    "    'VOLATILE_ACIDITY',\n",
    "    'CITRIC_ACID',\n",
    "    'RESIDUAL_SUGAR',\n",
    "    'CHLORIDES',\n",
    "    'FREE_SULFUR_DIOXIDE',\n",
    "    'TOTAL_SULFUR_DIOXIDE',\n",
    "    'DENSITY',\n",
    "    'pH',\n",
    "    'SULPHATES',\n",
    "    'ALCOHOL'\n",
    "]\n",
    "\n",
    "'''\n",
    "Column Rankings:\n",
    "('ALCOHOL', 1400)\n",
    "('SULPHATES', 1249)\n",
    "('VOLATILE_ACIDITY', 1111)\n",
    "('CITRIC_ACID', 1000)\n",
    "('TOTAL_SULFUR_DIOXIDE', 769)\n",
    "('FIXED_ACIDITY', 747)\n",
    "('CHLORIDES', 542)\n",
    "('DENSITY', 454)\n",
    "('RESIDUAL_SUGAR', 209)\n",
    "('pH', 206)\n",
    "('FREE_SULFUR_DIOXIDE', 13)]\n",
    "'''\n",
    "\n",
    "quality_binarize = [1 if row_quality in value_to_predict else 0 for row_quality in df[target]]\n",
    "df[target] = quality_binarize"
   ]
  },
  {
   "cell_type": "code",
   "execution_count": 4,
   "metadata": {},
   "outputs": [],
   "source": [
    "X = df[columns_to_choose]\n",
    "y = df[target]"
   ]
  },
  {
   "cell_type": "code",
   "execution_count": 5,
   "metadata": {},
   "outputs": [],
   "source": [
    "X_train, X_test, y_train, y_test = train_test_split(X, y,\n",
    "                                                    test_size = test_size,\n",
    "                                                    random_state = seed\n",
    "                                                   )\n",
    "X_train, X_cross_validation, y_train, y_cross_validation = train_test_split(X_train, y_train,\n",
    "                                                                            test_size = cross_validation_size,\n",
    "                                                                            random_state = seed\n",
    "                                                                           )"
   ]
  },
  {
   "cell_type": "code",
   "execution_count": 6,
   "metadata": {},
   "outputs": [],
   "source": [
    "train_rate_keep = 1.0\n",
    "subset_index = np.random.choice(X_train.index,\n",
    "                                size = int(len(X_train.index) * train_rate_keep),\n",
    "                                replace = False)\n",
    "\n",
    "training_set_subset = df.iloc[subset_index]\n",
    "X_train_subset = training_set_subset[columns_to_choose]\n",
    "y_train_subset = training_set_subset[target]"
   ]
  },
  {
   "cell_type": "code",
   "execution_count": 7,
   "metadata": {},
   "outputs": [],
   "source": [
    "positive_cnt = list(y_train_subset).count(1)\n",
    "k_neighbors = 5 if positive_cnt >= 5 else positive_cnt\n",
    "# print(k_neighbors)"
   ]
  },
  {
   "cell_type": "code",
   "execution_count": 8,
   "metadata": {},
   "outputs": [],
   "source": [
    "X_resampled, y_resampled = SMOTE(random_state = seed,\n",
    "                                 k_neighbors = k_neighbors\n",
    "                                 ,\n",
    "                                 sampling_strategy = 0.5\n",
    "                                ).fit_resample(X_train_subset, y_train_subset)"
   ]
  },
  {
   "cell_type": "code",
   "execution_count": 9,
   "metadata": {},
   "outputs": [],
   "source": [
    "sc = StandardScaler()\n",
    "X_train = sc.fit_transform(X_train)\n",
    "X_resampled = sc.fit_transform(X_resampled)\n",
    "X_cross_validation = sc.fit_transform(X_cross_validation)\n",
    "X_test = sc.fit_transform(X_test)"
   ]
  },
  {
   "cell_type": "code",
   "execution_count": 10,
   "metadata": {},
   "outputs": [
    {
     "name": "stdout",
     "output_type": "stream",
     "text": [
      "(array([0, 1], dtype=int64), array([779, 116], dtype=int64))\n",
      "(array([0, 1], dtype=int64), array([779, 389], dtype=int64))\n",
      "(array([0, 1], dtype=int64), array([189,  35], dtype=int64))\n",
      "(array([0, 1], dtype=int64), array([414,  66], dtype=int64))\n"
     ]
    }
   ],
   "source": [
    "print(np.unique(y_train, return_counts = True))\n",
    "print(np.unique(y_resampled, return_counts = True))\n",
    "print(np.unique(y_cross_validation, return_counts = True))\n",
    "print(np.unique(y_test, return_counts = True))"
   ]
  },
  {
   "cell_type": "code",
   "execution_count": 16,
   "metadata": {},
   "outputs": [],
   "source": [
    "tf.keras.backend.clear_session()\n",
    "tensorboards = [\n",
    "    tf.keras.callbacks.TensorBoard(log_dir=\"logs/resampled/{}\".format(time())),\n",
    "    tf.keras.callbacks.TensorBoard(log_dir=\"logs/vanilla/{}\".format(time()))\n",
    "]\n",
    "# tensorboard_1 = tf.keras.callbacks.TensorBoard(log_dir=\"logs/{}\".format(time()))\n",
    "# tensorboard_2 = tf.keras.callbacks.TensorBoard(log_dir=\"logs/{}\".format(time()))\n",
    "\n",
    "epochs_param = 500\n",
    "input_dim = X_train.shape[1]\n",
    "optimizer = tf.keras.optimizers.Adam(lr = 0.01)\n",
    "batch_size = 128\n",
    "# class_weight = {0: 1, 1: 3}\n",
    "class_weight = None\n",
    "\n",
    "training_data = [\n",
    "    [X_resampled, y_resampled]\n",
    "    ,\n",
    "    [X_train, y_train]\n",
    "]\n",
    "\n",
    "models = []\n",
    "for _ in range(len(training_data)):\n",
    "    model = tf.keras.Sequential()\n",
    "    model.add(tf.keras.layers.Dense(4, activation = tf.nn.elu, input_dim = input_dim, use_bias = False))\n",
    "    model.add(tf.keras.layers.BatchNormalization())\n",
    "    model.add(tf.keras.layers.Dropout(rate = 0.2, seed = seed))\n",
    "    model.add(tf.keras.layers.Dense(4, activation = tf.nn.elu, use_bias = False))\n",
    "    model.add(tf.keras.layers.BatchNormalization())\n",
    "    model.add(tf.keras.layers.Dropout(rate = 0.2, seed = seed))\n",
    "    model.add(tf.keras.layers.Dense(1, activation = tf.nn.sigmoid))\n",
    "    model.compile(optimizer = optimizer, loss = 'binary_crossentropy', metrics = ['accuracy'])\n",
    "    models.append(model)"
   ]
  },
  {
   "cell_type": "code",
   "execution_count": 17,
   "metadata": {
    "scrolled": true
   },
   "outputs": [
    {
     "name": "stdout",
     "output_type": "stream",
     "text": [
      "End of model training\n",
      "End of model training\n"
     ]
    }
   ],
   "source": [
    "models_history = []\n",
    "predictions = []\n",
    "results = {'Accuracy': [], 'Precision': [], 'Recall': [], 'F1_score': []}\n",
    "\n",
    "for itr, model in enumerate(models):\n",
    "    current_model_history = model.fit(x = training_data[itr][0], y = training_data[itr][1],\n",
    "                                      validation_data = (X_cross_validation, y_cross_validation),\n",
    "                                      batch_size = batch_size,\n",
    "                                      class_weight = class_weight,\n",
    "                                      epochs = epochs_param,\n",
    "                                      shuffle = True,\n",
    "                                      verbose = 0,\n",
    "                                      callbacks = [tensorboards[itr]]\n",
    "                                     )\n",
    "    models_history.append(current_model_history)\n",
    "    print('End of model training')\n",
    "    \n",
    "    current_model_predictions = model.predict(x = X_test)\n",
    "    predictions.append(current_model_predictions)\n",
    "    \n",
    "    results['Accuracy'].append(accuracy_score(y_test, np.round(current_model_predictions)))\n",
    "    results['Precision'].append(precision_score(y_test, np.round(current_model_predictions)))\n",
    "    results['Recall'].append(recall_score(y_test, np.round(current_model_predictions)))\n",
    "    results['F1_score'].append(f1_score(y_test, np.round(current_model_predictions)))"
   ]
  },
  {
   "cell_type": "code",
   "execution_count": 18,
   "metadata": {},
   "outputs": [
    {
     "name": "stdout",
     "output_type": "stream",
     "text": [
      "Accuracy: [0.8354166666666667, 0.8916666666666667]\n",
      "Precision: [0.44144144144144143, 0.7058823529411765]\n",
      "Recall: [0.7424242424242424, 0.36363636363636365]\n",
      "F1_score: [0.5536723163841808, 0.48000000000000004]\n"
     ]
    }
   ],
   "source": [
    "for key, value in results.items():\n",
    "    print('{}: {}'.format(key, value))"
   ]
  },
  {
   "cell_type": "code",
   "execution_count": 19,
   "metadata": {},
   "outputs": [
    {
     "data": {
      "text/plain": [
       "Text(737.5404040404039, 0.5, 'True Label')"
      ]
     },
     "execution_count": 19,
     "metadata": {},
     "output_type": "execute_result"
    },
    {
     "data": {
      "image/png": "[encoded data removed]",
      "text/plain": [
       "<Figure size 1400x600 with 4 Axes>"
      ]
     },
     "metadata": {
      "needs_background": "light"
     },
     "output_type": "display_data"
    }
   ],
   "source": [
    "cm = [confusion_matrix(y_test, np.round(pred)) for pred in predictions]\n",
    "\n",
    "fig, ax = plt.subplots(nrows = 1, ncols = 2, figsize = (14, 6), dpi = 100)\n",
    "sns.heatmap(cm[0], annot = True, fmt = 'd', ax = ax[0])\n",
    "ax[0].set_title('Upsampling')\n",
    "ax[0].set_xlabel('Predicted Label')\n",
    "ax[0].set_ylabel('True Label')\n",
    "\n",
    "sns.heatmap(cm[1], annot = True, fmt = 'd', ax = ax[1])\n",
    "ax[1].set_title('Vanilla')\n",
    "ax[1].set_xlabel('Predicted Label')\n",
    "ax[1].set_ylabel('True Label')"
   ]
  },
  {
   "cell_type": "code",
   "execution_count": 20,
   "metadata": {},
   "outputs": [
    {
     "data": {
      "image/png": "[encoded data removed]",
      "text/plain": [
       "<Figure size 1400x600 with 2 Axes>"
      ]
     },
     "metadata": {
      "needs_background": "light"
     },
     "output_type": "display_data"
    }
   ],
   "source": [
    "fpr = []\n",
    "tpr = []\n",
    "roc_auc = []\n",
    "\n",
    "for pred in predictions:\n",
    "    \n",
    "    current_fpr, current_tpr, _ = roc_curve(y_test, pred)\n",
    "    current_roc_auc = auc(current_fpr, current_tpr)\n",
    "    \n",
    "    fpr.append(current_fpr)\n",
    "    tpr.append(current_tpr)\n",
    "    roc_auc.append(current_roc_auc)\n",
    "    \n",
    "fig, ax = plt.subplots(nrows = 1, ncols = 2, figsize = (14, 6), dpi = 100)\n",
    "ax[0].set_title('Receiver Operating Characteristic Upsampling')\n",
    "ax[0].plot(fpr[0], tpr[0], 'b', label = 'ROC curve (area = %0.2f)' % roc_auc[0])\n",
    "ax[0].legend(loc = 'lower right')\n",
    "ax[0].plot([0, 1], [0, 1],'r--')\n",
    "ax[0].set_xlim([0, 1])\n",
    "ax[0].set_ylim([0, 1])\n",
    "ax[0].set_ylabel('True Positive Rate')\n",
    "ax[0].set_xlabel('False Positive Rate')\n",
    "\n",
    "ax[1].set_title('Receiver Operating Characteristic Vanilla')\n",
    "ax[1].plot(fpr[1], tpr[1], 'b', label = 'ROC curve (area = %0.2f)' % roc_auc[1])\n",
    "ax[1].legend(loc = 'lower right')\n",
    "ax[1].plot([0, 1], [0, 1],'r--')\n",
    "ax[1].set_xlim([0, 1])\n",
    "ax[1].set_ylim([0, 1])\n",
    "ax[1].set_ylabel('True Positive Rate')\n",
    "ax[1].set_xlabel('False Positive Rate')\n",
    "\n",
    "plt.show()"
   ]
  },
  {
   "cell_type": "code",
   "execution_count": null,
   "metadata": {},
   "outputs": [],
   "source": [
    "# fpr_vanilla = []\n",
    "# tpr_vanilla = []\n",
    "# roc_auc_vanilla = []\n",
    "# fpr_vanilla, tpr_vanilla, thresholds_vanilla = roc_curve(y_test, pred_vanilla)\n",
    "# roc_auc_vanilla = auc(fpr_vanilla, tpr_vanilla)\n",
    "\n",
    "# plt.title('Receiver Operating Characteristic')\n",
    "# plt.plot(fpr_vanilla, tpr_vanilla, 'b', label = 'ROC curve (area = %0.2f)' % roc_auc_vanilla)\n",
    "# plt.legend(loc = 'lower right')\n",
    "# plt.plot([0, 1], [0, 1],'r--')\n",
    "# plt.xlim([0, 1])\n",
    "# plt.ylim([0, 1])\n",
    "# plt.ylabel('True Positive Rate')\n",
    "# plt.xlabel('False Positive Rate')\n",
    "# plt.show()"
   ]
  },
  {
   "cell_type": "code",
   "execution_count": null,
   "metadata": {},
   "outputs": [],
   "source": []
  },
  {
   "cell_type": "code",
   "execution_count": null,
   "metadata": {},
   "outputs": [],
   "source": [
    "# index_numpy_array = np.array(df.index)\n",
    "# training_set_indices = np.random.choice(index_numpy_array,\n",
    "#                                         size = int(index_numpy_array.shape[0] * (1-test_size)),\n",
    "#                                         replace = False)\n",
    "\n",
    "# test_set_indices = np.delete(index_numpy_array, training_set_indices)\n",
    "# assert(len(df) == len(training_set_indices) + len(test_set_indices))\n",
    "\n",
    "# training_set = df.iloc[training_set_indices]\n",
    "# test_set = df.iloc[test_set_indices]\n",
    "\n",
    "# print(np.unique(training_set['QUALITY'], return_counts = True))\n",
    "# print(np.unique(test_set['QUALITY'], return_counts = True))\n",
    "\n",
    "# \"\"\"\n",
    "# Upsampling\n",
    "#     - since we have a data imbalance between wine qualities, perform upsampling to the minority class,\n",
    "#       so that the count between the qualities are the same\n",
    "#     - this is done by sampling from the minority class with replacement\n",
    "# \"\"\"\n",
    "# majority_size_pct = 0.3\n",
    "\n",
    "# full_training_set_majority_class = training_set[training_set['QUALITY'] != 1].index\n",
    "# full_training_set_minority_class = training_set[training_set['QUALITY'] == 1].index\n",
    "\n",
    "# upsampling_training_majority = np.random.choice(full_training_set_majority_class,\n",
    "#                                                size = int(len(full_training_set_majority_class) * majority_size_pct),\n",
    "#                                                replace = False\n",
    "#                                               )\n",
    "# upsampling_training_minority = np.random.choice(full_training_set_minority_class,\n",
    "#                                                size = int((len(full_training_set_majority_class) * majority_size_pct) * 1.0),\n",
    "#                                                replace = True\n",
    "#                                               )\n",
    "\n",
    "# upsampling_training_set = df.iloc[np.append(upsampling_training_majority, upsampling_training_minority)]\n",
    "# upsampling_cross_validation_set = training_set.drop(np.append(upsampling_training_majority, upsampling_training_minority))\n",
    "\n",
    "# # assert(len(training_set) == len(cross_validation_set_indices) + len(upsampled_training_majority) + len(upsampled_training_minority))\n",
    "\n",
    "# \"\"\"\n",
    "# Downsampling\n",
    "#     - since we have a data imbalance between wine qualities, perform Downsampling to the minority class,\n",
    "#       so that the count between the qualities are the same\n",
    "#     - this is done by subsampling from the majority class without replacement\n",
    "# \"\"\"\n",
    "\n",
    "# majority_size_pct = 0.3\n",
    "\n",
    "# full_training_set_majority_class = training_set[training_set['QUALITY'] != 1].index\n",
    "# full_training_set_minority_class = training_set[training_set['QUALITY'] == 1].index\n",
    "\n",
    "# upsampling_training_majority = np.random.choice(full_training_set_majority_class,\n",
    "#                                                size = len(full_training_set_minority_class) * 3,\n",
    "#                                                replace = False\n",
    "#                                               )\n",
    "# upsampling_training_minority = np.random.choice(full_training_set_minority_class,\n",
    "#                                                size = len(full_training_set_minority_class),\n",
    "#                                                replace = False\n",
    "#                                               )\n",
    "\n",
    "# upsampling_training_set = df.iloc[np.append(upsampling_training_majority, upsampling_training_minority)]\n",
    "# upsampling_cross_validation_set = training_set.drop(np.append(upsampling_training_majority, upsampling_training_minority))\n",
    "\n",
    "# # assert(len(training_set) == len(cross_validation_set_indices) + len(upsampled_training_majority) + len(upsampled_training_minority))\n",
    "\n",
    "# y_train = upsampling_training_set['QUALITY'].values\n",
    "# X_train = upsampling_training_set.drop(columns = ['QUALITY']).values\n",
    "\n",
    "# y_cross_validation = upsampling_cross_validation_set['QUALITY'].values\n",
    "# X_cross_validation = upsampling_cross_validation_set.drop(columns = ['QUALITY']).values\n",
    "\n",
    "# y_test = test_set['QUALITY'].values\n",
    "# X_test = test_set.drop(columns = ['QUALITY']).values"
   ]
  }
 ],
 "metadata": {
  "kernelspec": {
   "display_name": "Python 3",
   "language": "python",
   "name": "python3"
  },
  "language_info": {
   "codemirror_mode": {
    "name": "ipython",
    "version": 3
   },
   "file_extension": ".py",
   "mimetype": "text/x-python",
   "name": "python",
   "nbconvert_exporter": "python",
   "pygments_lexer": "ipython3",
   "version": "3.6.8"
  }
 },
 "nbformat": 4,
 "nbformat_minor": 2
}
