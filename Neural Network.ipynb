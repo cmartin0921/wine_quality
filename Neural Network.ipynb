{
 "cells": [
  {
   "cell_type": "code",
   "execution_count": 1,
   "metadata": {},
   "outputs": [],
   "source": [
    "import numpy as np\n",
    "import pandas as pd\n",
    "import tensorflow as tf\n",
    "import matplotlib.pyplot as plt\n",
    "\n",
    "from sklearn.preprocessing import LabelEncoder, StandardScaler\n",
    "from sklearn.model_selection import train_test_split, StratifiedKFold\n",
    "\n",
    "seed = None"
   ]
  },
  {
   "cell_type": "code",
   "execution_count": 2,
   "metadata": {},
   "outputs": [],
   "source": [
    "df = pd.read_csv('dataset/winequality-red.csv')"
   ]
  },
  {
   "cell_type": "code",
   "execution_count": 3,
   "metadata": {},
   "outputs": [],
   "source": [
    "# df[:10]\n",
    "# df.groupby('quality').count()"
   ]
  },
  {
   "cell_type": "code",
   "execution_count": 4,
   "metadata": {},
   "outputs": [],
   "source": [
    "X = df.drop(columns = ['QUALITY']).values\n",
    "# astype(np.float32).values\n",
    "y = df['QUALITY'].values"
   ]
  },
  {
   "cell_type": "code",
   "execution_count": 5,
   "metadata": {},
   "outputs": [],
   "source": [
    "# encoder = LabelEncoder()\n",
    "# encoder.fit(y)\n",
    "# encoded_Y = encoder.transform(y)\n",
    "# dummy_y = tf.keras.utils.to_categorical(encoded_Y)\n",
    "\n",
    "eight_only = [0 if value == 8 else 1 for value in y]"
   ]
  },
  {
   "cell_type": "code",
   "execution_count": 6,
   "metadata": {},
   "outputs": [],
   "source": [
    "# print(dummy_y[:10])\n",
    "# print(y[:10])"
   ]
  },
  {
   "cell_type": "code",
   "execution_count": 7,
   "metadata": {},
   "outputs": [],
   "source": [
    "# print(type(X))\n",
    "# print(type(y))"
   ]
  },
  {
   "cell_type": "code",
   "execution_count": 8,
   "metadata": {},
   "outputs": [],
   "source": [
    "# X_train, X_test, y_train, y_test = train_test_split(X, dummy_y, test_size = 0.3, random_state = seed)\n",
    "X_train, X_test, y_train, y_test = train_test_split(X, eight_only, test_size = 0.3, random_state = seed)"
   ]
  },
  {
   "cell_type": "code",
   "execution_count": 9,
   "metadata": {},
   "outputs": [
    {
     "name": "stdout",
     "output_type": "stream",
     "text": [
      "(array([0, 1]), array([  15, 1104]))\n",
      "(array([0, 1]), array([  3, 477]))\n"
     ]
    }
   ],
   "source": [
    "print(np.unique(y_train, return_counts = True))\n",
    "print(np.unique(y_test, return_counts = True))"
   ]
  },
  {
   "cell_type": "code",
   "execution_count": 10,
   "metadata": {},
   "outputs": [
    {
     "name": "stdout",
     "output_type": "stream",
     "text": [
      "WARNING:tensorflow:From /home/xtian209/anaconda3/envs/tensorflow/lib/python3.6/site-packages/tensorflow/python/ops/resource_variable_ops.py:435: colocate_with (from tensorflow.python.framework.ops) is deprecated and will be removed in a future version.\n",
      "Instructions for updating:\n",
      "Colocations handled automatically by placer.\n",
      "WARNING:tensorflow:From /home/xtian209/anaconda3/envs/tensorflow/lib/python3.6/site-packages/tensorflow/python/keras/layers/core.py:143: calling dropout (from tensorflow.python.ops.nn_ops) with keep_prob is deprecated and will be removed in a future version.\n",
      "Instructions for updating:\n",
      "Please use `rate` instead of `keep_prob`. Rate should be set to `rate = 1 - keep_prob`.\n"
     ]
    }
   ],
   "source": [
    "tf.keras.backend.clear_session()\n",
    "\n",
    "epochs_param = 100\n",
    "input_dim = X_train.shape[1]\n",
    "optimizer = 'adam'\n",
    "\n",
    "# model = tf.keras.Sequential()\n",
    "# model.add(tf.keras.layers.Dense(32, activation = tf.nn.relu, input_dim = input_dim,\n",
    "# #                                 bias_initializer = 'ones'\n",
    "#                                ))\n",
    "# model.add(tf.keras.layers.Dropout(rate = 0.2, seed = seed))\n",
    "# model.add(tf.keras.layers.Dense(6, activation = tf.nn.softmax))\n",
    "\n",
    "# model.compile(optimizer = optimizer, loss = 'categorical_crossentropy', metrics = ['accuracy'])\n",
    "\n",
    "model = tf.keras.Sequential()\n",
    "model.add(tf.keras.layers.Dense(10, activation = tf.nn.relu, input_dim = input_dim))\n",
    "model.add(tf.keras.layers.Dropout(rate = 0.2, seed = seed))\n",
    "# model.add(tf.keras.layers.Dense(10, activation = tf.nn.relu, input_dim = input_dim))\n",
    "# model.add(tf.keras.layers.Dropout(rate = 0.2, seed = seed))\n",
    "model.add(tf.keras.layers.Dense(1, activation = tf.nn.sigmoid))\n",
    "\n",
    "model.compile(optimizer = optimizer, loss = 'binary_crossentropy', metrics = ['accuracy'])"
   ]
  },
  {
   "cell_type": "code",
   "execution_count": 11,
   "metadata": {
    "scrolled": true
   },
   "outputs": [
    {
     "name": "stdout",
     "output_type": "stream",
     "text": [
      "Train on 1119 samples, validate on 480 samples\n",
      "WARNING:tensorflow:From /home/xtian209/anaconda3/envs/tensorflow/lib/python3.6/site-packages/tensorflow/python/ops/math_ops.py:3066: to_int32 (from tensorflow.python.ops.math_ops) is deprecated and will be removed in a future version.\n",
      "Instructions for updating:\n",
      "Use tf.cast instead.\n",
      "Epoch 1/100\n",
      " - 1s - loss: 4.2313 - acc: 0.3691 - val_loss: 0.2649 - val_acc: 0.8896\n",
      "Epoch 2/100\n",
      " - 0s - loss: 0.8561 - acc: 0.7936 - val_loss: 0.0648 - val_acc: 0.9937\n",
      "Epoch 3/100\n",
      " - 0s - loss: 0.4538 - acc: 0.9106 - val_loss: 0.0591 - val_acc: 0.9937\n",
      "Epoch 4/100\n",
      " - 0s - loss: 0.4128 - acc: 0.9169 - val_loss: 0.0583 - val_acc: 0.9937\n",
      "Epoch 5/100\n",
      " - 0s - loss: 0.2395 - acc: 0.9526 - val_loss: 0.0584 - val_acc: 0.9937\n",
      "Epoch 6/100\n",
      " - 0s - loss: 0.2481 - acc: 0.9544 - val_loss: 0.0585 - val_acc: 0.9937\n",
      "Epoch 7/100\n",
      " - 0s - loss: 0.2341 - acc: 0.9553 - val_loss: 0.0587 - val_acc: 0.9937\n",
      "Epoch 8/100\n",
      " - 0s - loss: 0.2267 - acc: 0.9696 - val_loss: 0.0587 - val_acc: 0.9937\n",
      "Epoch 9/100\n",
      " - 0s - loss: 0.1972 - acc: 0.9678 - val_loss: 0.0587 - val_acc: 0.9937\n",
      "Epoch 10/100\n",
      " - 0s - loss: 0.1849 - acc: 0.9651 - val_loss: 0.0593 - val_acc: 0.9937\n",
      "Epoch 11/100\n",
      " - 0s - loss: 0.1862 - acc: 0.9732 - val_loss: 0.0596 - val_acc: 0.9937\n",
      "Epoch 12/100\n",
      " - 0s - loss: 0.1627 - acc: 0.9750 - val_loss: 0.0592 - val_acc: 0.9937\n",
      "Epoch 13/100\n",
      " - 0s - loss: 0.1907 - acc: 0.9750 - val_loss: 0.0589 - val_acc: 0.9937\n",
      "Epoch 14/100\n",
      " - 0s - loss: 0.1897 - acc: 0.9732 - val_loss: 0.0589 - val_acc: 0.9937\n",
      "Epoch 15/100\n",
      " - 0s - loss: 0.1678 - acc: 0.9768 - val_loss: 0.0584 - val_acc: 0.9937\n",
      "Epoch 16/100\n",
      " - 0s - loss: 0.1606 - acc: 0.9714 - val_loss: 0.0582 - val_acc: 0.9937\n",
      "Epoch 17/100\n",
      " - 0s - loss: 0.1635 - acc: 0.9794 - val_loss: 0.0581 - val_acc: 0.9937\n",
      "Epoch 18/100\n",
      " - 0s - loss: 0.1834 - acc: 0.9741 - val_loss: 0.0578 - val_acc: 0.9937\n",
      "Epoch 19/100\n",
      " - 0s - loss: 0.1627 - acc: 0.9786 - val_loss: 0.0580 - val_acc: 0.9937\n",
      "Epoch 20/100\n",
      " - 0s - loss: 0.1488 - acc: 0.9777 - val_loss: 0.0582 - val_acc: 0.9937\n",
      "Epoch 21/100\n",
      " - 0s - loss: 0.1690 - acc: 0.9777 - val_loss: 0.0585 - val_acc: 0.9937\n",
      "Epoch 22/100\n",
      " - 0s - loss: 0.1502 - acc: 0.9794 - val_loss: 0.0582 - val_acc: 0.9937\n",
      "Epoch 23/100\n",
      " - 0s - loss: 0.1592 - acc: 0.9768 - val_loss: 0.0584 - val_acc: 0.9937\n",
      "Epoch 24/100\n",
      " - 0s - loss: 0.1200 - acc: 0.9839 - val_loss: 0.0588 - val_acc: 0.9937\n",
      "Epoch 25/100\n",
      " - 0s - loss: 0.1424 - acc: 0.9803 - val_loss: 0.0587 - val_acc: 0.9937\n",
      "Epoch 26/100\n",
      " - 0s - loss: 0.1343 - acc: 0.9821 - val_loss: 0.0582 - val_acc: 0.9937\n",
      "Epoch 27/100\n",
      " - 0s - loss: 0.1358 - acc: 0.9803 - val_loss: 0.0583 - val_acc: 0.9937\n",
      "Epoch 28/100\n",
      " - 0s - loss: 0.1250 - acc: 0.9812 - val_loss: 0.0581 - val_acc: 0.9937\n",
      "Epoch 29/100\n",
      " - 0s - loss: 0.1386 - acc: 0.9839 - val_loss: 0.0582 - val_acc: 0.9937\n",
      "Epoch 30/100\n",
      " - 0s - loss: 0.1333 - acc: 0.9794 - val_loss: 0.0578 - val_acc: 0.9937\n",
      "Epoch 31/100\n",
      " - 0s - loss: 0.1337 - acc: 0.9821 - val_loss: 0.0574 - val_acc: 0.9937\n",
      "Epoch 32/100\n",
      " - 0s - loss: 0.1144 - acc: 0.9812 - val_loss: 0.0579 - val_acc: 0.9937\n",
      "Epoch 33/100\n",
      " - 0s - loss: 0.1426 - acc: 0.9803 - val_loss: 0.0576 - val_acc: 0.9937\n",
      "Epoch 34/100\n",
      " - 0s - loss: 0.1289 - acc: 0.9830 - val_loss: 0.0574 - val_acc: 0.9937\n",
      "Epoch 35/100\n",
      " - 0s - loss: 0.1460 - acc: 0.9839 - val_loss: 0.0578 - val_acc: 0.9937\n",
      "Epoch 36/100\n",
      " - 0s - loss: 0.1157 - acc: 0.9830 - val_loss: 0.0573 - val_acc: 0.9937\n",
      "Epoch 37/100\n",
      " - 0s - loss: 0.1370 - acc: 0.9839 - val_loss: 0.0570 - val_acc: 0.9937\n",
      "Epoch 38/100\n",
      " - 0s - loss: 0.1131 - acc: 0.9857 - val_loss: 0.0574 - val_acc: 0.9937\n",
      "Epoch 39/100\n",
      " - 0s - loss: 0.1345 - acc: 0.9848 - val_loss: 0.0575 - val_acc: 0.9937\n",
      "Epoch 40/100\n",
      " - 0s - loss: 0.1166 - acc: 0.9848 - val_loss: 0.0580 - val_acc: 0.9937\n",
      "Epoch 41/100\n",
      " - 0s - loss: 0.1238 - acc: 0.9821 - val_loss: 0.0569 - val_acc: 0.9937\n",
      "Epoch 42/100\n",
      " - 0s - loss: 0.1276 - acc: 0.9848 - val_loss: 0.0580 - val_acc: 0.9937\n",
      "Epoch 43/100\n",
      " - 0s - loss: 0.1212 - acc: 0.9848 - val_loss: 0.0597 - val_acc: 0.9937\n",
      "Epoch 44/100\n",
      " - 0s - loss: 0.1101 - acc: 0.9839 - val_loss: 0.0578 - val_acc: 0.9937\n",
      "Epoch 45/100\n",
      " - 0s - loss: 0.1158 - acc: 0.9839 - val_loss: 0.0577 - val_acc: 0.9937\n",
      "Epoch 46/100\n",
      " - 0s - loss: 0.1241 - acc: 0.9866 - val_loss: 0.0580 - val_acc: 0.9937\n",
      "Epoch 47/100\n",
      " - 0s - loss: 0.1119 - acc: 0.9839 - val_loss: 0.0580 - val_acc: 0.9937\n",
      "Epoch 48/100\n",
      " - 0s - loss: 0.1211 - acc: 0.9821 - val_loss: 0.0585 - val_acc: 0.9937\n",
      "Epoch 49/100\n",
      " - 0s - loss: 0.1115 - acc: 0.9848 - val_loss: 0.0592 - val_acc: 0.9937\n",
      "Epoch 50/100\n",
      " - 0s - loss: 0.1225 - acc: 0.9830 - val_loss: 0.0612 - val_acc: 0.9937\n",
      "Epoch 51/100\n",
      " - 0s - loss: 0.1138 - acc: 0.9839 - val_loss: 0.0625 - val_acc: 0.9937\n",
      "Epoch 52/100\n",
      " - 0s - loss: 0.1016 - acc: 0.9839 - val_loss: 0.0598 - val_acc: 0.9937\n",
      "Epoch 53/100\n",
      " - 0s - loss: 0.1153 - acc: 0.9857 - val_loss: 0.0609 - val_acc: 0.9937\n",
      "Epoch 54/100\n",
      " - 0s - loss: 0.1167 - acc: 0.9857 - val_loss: 0.0635 - val_acc: 0.9937\n",
      "Epoch 55/100\n",
      " - 0s - loss: 0.1063 - acc: 0.9857 - val_loss: 0.0636 - val_acc: 0.9937\n",
      "Epoch 56/100\n",
      " - 0s - loss: 0.1072 - acc: 0.9857 - val_loss: 0.0617 - val_acc: 0.9937\n",
      "Epoch 57/100\n",
      " - 0s - loss: 0.1162 - acc: 0.9857 - val_loss: 0.0598 - val_acc: 0.9937\n",
      "Epoch 58/100\n",
      " - 0s - loss: 0.1093 - acc: 0.9839 - val_loss: 0.0616 - val_acc: 0.9937\n",
      "Epoch 59/100\n",
      " - 0s - loss: 0.1107 - acc: 0.9857 - val_loss: 0.0622 - val_acc: 0.9937\n",
      "Epoch 60/100\n",
      " - 0s - loss: 0.1070 - acc: 0.9857 - val_loss: 0.0603 - val_acc: 0.9937\n",
      "Epoch 61/100\n",
      " - 0s - loss: 0.1119 - acc: 0.9848 - val_loss: 0.0628 - val_acc: 0.9937\n",
      "Epoch 62/100\n",
      " - 0s - loss: 0.0961 - acc: 0.9857 - val_loss: 0.0639 - val_acc: 0.9937\n",
      "Epoch 63/100\n",
      " - 0s - loss: 0.1143 - acc: 0.9839 - val_loss: 0.0662 - val_acc: 0.9937\n",
      "Epoch 64/100\n",
      " - 0s - loss: 0.1114 - acc: 0.9848 - val_loss: 0.0652 - val_acc: 0.9937\n",
      "Epoch 65/100\n",
      " - 0s - loss: 0.1093 - acc: 0.9866 - val_loss: 0.0640 - val_acc: 0.9937\n",
      "Epoch 66/100\n",
      " - 0s - loss: 0.0992 - acc: 0.9857 - val_loss: 0.0660 - val_acc: 0.9937\n",
      "Epoch 67/100\n",
      " - 0s - loss: 0.1106 - acc: 0.9848 - val_loss: 0.0642 - val_acc: 0.9937\n",
      "Epoch 68/100\n",
      " - 0s - loss: 0.1051 - acc: 0.9848 - val_loss: 0.0630 - val_acc: 0.9937\n",
      "Epoch 69/100\n",
      " - 0s - loss: 0.0981 - acc: 0.9866 - val_loss: 0.0625 - val_acc: 0.9937\n",
      "Epoch 70/100\n",
      " - 0s - loss: 0.1060 - acc: 0.9866 - val_loss: 0.0643 - val_acc: 0.9937\n",
      "Epoch 71/100\n",
      " - 0s - loss: 0.1025 - acc: 0.9857 - val_loss: 0.0636 - val_acc: 0.9937\n",
      "Epoch 72/100\n",
      " - 0s - loss: 0.0895 - acc: 0.9866 - val_loss: 0.0629 - val_acc: 0.9937\n",
      "Epoch 73/100\n",
      " - 0s - loss: 0.0933 - acc: 0.9857 - val_loss: 0.0620 - val_acc: 0.9937\n",
      "Epoch 74/100\n",
      " - 0s - loss: 0.0896 - acc: 0.9866 - val_loss: 0.0606 - val_acc: 0.9937\n",
      "Epoch 75/100\n",
      " - 0s - loss: 0.1022 - acc: 0.9866 - val_loss: 0.0611 - val_acc: 0.9937\n",
      "Epoch 76/100\n",
      " - 0s - loss: 0.0943 - acc: 0.9857 - val_loss: 0.0621 - val_acc: 0.9937\n",
      "Epoch 77/100\n",
      " - 0s - loss: 0.0975 - acc: 0.9857 - val_loss: 0.0620 - val_acc: 0.9937\n",
      "Epoch 78/100\n",
      " - 0s - loss: 0.1008 - acc: 0.9848 - val_loss: 0.0604 - val_acc: 0.9937\n",
      "Epoch 79/100\n",
      " - 0s - loss: 0.1009 - acc: 0.9866 - val_loss: 0.0602 - val_acc: 0.9937\n",
      "Epoch 80/100\n",
      " - 0s - loss: 0.1113 - acc: 0.9848 - val_loss: 0.0598 - val_acc: 0.9937\n",
      "Epoch 81/100\n",
      " - 0s - loss: 0.0877 - acc: 0.9857 - val_loss: 0.0614 - val_acc: 0.9937\n",
      "Epoch 82/100\n",
      " - 0s - loss: 0.0956 - acc: 0.9866 - val_loss: 0.0612 - val_acc: 0.9937\n",
      "Epoch 83/100\n",
      " - 0s - loss: 0.0913 - acc: 0.9866 - val_loss: 0.0621 - val_acc: 0.9937\n",
      "Epoch 84/100\n",
      " - 0s - loss: 0.0867 - acc: 0.9866 - val_loss: 0.0620 - val_acc: 0.9937\n",
      "Epoch 85/100\n",
      " - 0s - loss: 0.1024 - acc: 0.9866 - val_loss: 0.0591 - val_acc: 0.9937\n",
      "Epoch 86/100\n",
      " - 0s - loss: 0.1013 - acc: 0.9866 - val_loss: 0.0579 - val_acc: 0.9937\n",
      "Epoch 87/100\n",
      " - 0s - loss: 0.0939 - acc: 0.9866 - val_loss: 0.0620 - val_acc: 0.9937\n",
      "Epoch 88/100\n",
      " - 0s - loss: 0.0993 - acc: 0.9866 - val_loss: 0.0598 - val_acc: 0.9937\n",
      "Epoch 89/100\n",
      " - 0s - loss: 0.0963 - acc: 0.9866 - val_loss: 0.0591 - val_acc: 0.9937\n",
      "Epoch 90/100\n",
      " - 0s - loss: 0.0908 - acc: 0.9866 - val_loss: 0.0590 - val_acc: 0.9937\n",
      "Epoch 91/100\n",
      " - 0s - loss: 0.0898 - acc: 0.9857 - val_loss: 0.0579 - val_acc: 0.9937\n",
      "Epoch 92/100\n",
      " - 0s - loss: 0.0878 - acc: 0.9866 - val_loss: 0.0581 - val_acc: 0.9937\n",
      "Epoch 93/100\n",
      " - 0s - loss: 0.0835 - acc: 0.9857 - val_loss: 0.0584 - val_acc: 0.9937\n"
     ]
    },
    {
     "name": "stdout",
     "output_type": "stream",
     "text": [
      "Epoch 94/100\n",
      " - 0s - loss: 0.0942 - acc: 0.9866 - val_loss: 0.0572 - val_acc: 0.9937\n",
      "Epoch 95/100\n",
      " - 0s - loss: 0.0856 - acc: 0.9866 - val_loss: 0.0559 - val_acc: 0.9937\n",
      "Epoch 96/100\n",
      " - 0s - loss: 0.0888 - acc: 0.9866 - val_loss: 0.0564 - val_acc: 0.9937\n",
      "Epoch 97/100\n",
      " - 0s - loss: 0.0829 - acc: 0.9866 - val_loss: 0.0562 - val_acc: 0.9937\n",
      "Epoch 98/100\n",
      " - 0s - loss: 0.0788 - acc: 0.9866 - val_loss: 0.0560 - val_acc: 0.9937\n",
      "Epoch 99/100\n",
      " - 0s - loss: 0.0904 - acc: 0.9866 - val_loss: 0.0557 - val_acc: 0.9937\n",
      "Epoch 100/100\n",
      " - 0s - loss: 0.0865 - acc: 0.9866 - val_loss: 0.0576 - val_acc: 0.9937\n"
     ]
    }
   ],
   "source": [
    "current_model = model.fit(x = X_train, y = y_train,\n",
    "                          validation_data = (X_test, y_test),\n",
    "#                           batch_size = 128,\n",
    "                          epochs = epochs_param, shuffle = True, verbose = 2)"
   ]
  },
  {
   "cell_type": "code",
   "execution_count": 15,
   "metadata": {},
   "outputs": [
    {
     "name": "stderr",
     "output_type": "stream",
     "text": [
      "/home/xtian209/anaconda3/envs/tensorflow/lib/python3.6/site-packages/sklearn/metrics/ranking.py:659: UndefinedMetricWarning: No positive samples in y_true, true positive value should be meaningless\n",
      "  UndefinedMetricWarning)\n"
     ]
    }
   ],
   "source": [
    "pred = model.predict(x = X_test)\n",
    "\n",
    "from sklearn.metrics import roc_curve, auc\n",
    "\n",
    "fpr = {}\n",
    "tpr = {}\n",
    "roc_auc = {}\n",
    "for i in range(2):\n",
    "    fpr[i], tpr[i], _ = roc_curve(y_test[i], pred[i], pos_label = 0)\n",
    "    roc_auc[i] = auc(fpr[i], tpr[i])\n",
    "    \n",
    "fpr[\"micro\"], tpr[\"micro\"], _ = roc_curve(y_test.ravel(), pred.ravel())\n",
    "roc_auc[\"micro\"] = auc(fpr[\"micro\"], tpr[\"micro\"])"
   ]
  },
  {
   "cell_type": "code",
   "execution_count": 14,
   "metadata": {},
   "outputs": [],
   "source": [
    "y_test = np.reshape(y_test, (len(y_test), 1))\n",
    "pred = np.reshape(pred, (len(y_test), 1))"
   ]
  },
  {
   "cell_type": "code",
   "execution_count": 16,
   "metadata": {},
   "outputs": [
    {
     "data": {
      "image/png": "[encoded data removed]",
      "text/plain": [
       "<Figure size 720x720 with 1 Axes>"
      ]
     },
     "metadata": {
      "needs_background": "light"
     },
     "output_type": "display_data"
    }
   ],
   "source": [
    "plt.figure(figsize = (10, 10))\n",
    "lw = 2\n",
    "plt.plot(fpr[1], tpr[1], color='darkorange',\n",
    "         lw=lw, label='ROC curve (area = %0.2f)' % roc_auc[1])\n",
    "plt.plot([0, 1], [0, 1], color='navy', lw=lw, linestyle='--')\n",
    "plt.xlim([0.0, 1.0])\n",
    "plt.ylim([0.0, 1.05])\n",
    "plt.xlabel('False Positive Rate')\n",
    "plt.ylabel('True Positive Rate')\n",
    "plt.title('Receiver operating characteristic example')\n",
    "plt.legend(loc=\"lower right\")\n",
    "plt.show()"
   ]
  },
  {
   "cell_type": "code",
   "execution_count": null,
   "metadata": {},
   "outputs": [],
   "source": []
  }
 ],
 "metadata": {
  "kernelspec": {
   "display_name": "Python 3",
   "language": "python",
   "name": "python3"
  },
  "language_info": {
   "codemirror_mode": {
    "name": "ipython",
    "version": 3
   },
   "file_extension": ".py",
   "mimetype": "text/x-python",
   "name": "python",
   "nbconvert_exporter": "python",
   "pygments_lexer": "ipython3",
   "version": "3.6.8"
  }
 },
 "nbformat": 4,
 "nbformat_minor": 2
}
